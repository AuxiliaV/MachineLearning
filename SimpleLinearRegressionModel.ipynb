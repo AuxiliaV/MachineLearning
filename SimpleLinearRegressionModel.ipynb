{
 "cells": [
  {
   "cell_type": "code",
   "execution_count": 4,
   "id": "d6e132d8-56fb-4ac6-bf22-2ad9a739b6d0",
   "metadata": {},
   "outputs": [
    {
     "name": "stderr",
     "output_type": "stream",
     "text": [
      "C:\\Anaconda\\Lib\\site-packages\\sklearn\\base.py:493: UserWarning: X does not have valid feature names, but LinearRegression was fitted with feature names\n",
      "  warnings.warn(\n"
     ]
    }
   ],
   "source": [
    "import pickle      # Initializing pickle library to access the model\n",
    "loaded=pickle.load(open(\"Finalized_model_Linear.sav\",'rb')) # we're reading the model by opening the \"Finalized_model_Linear.sav\" file using pickle.load function and store it in loaded variable\n",
    "result=loaded.predict([[15]])    # Manually provide an input to loaded.predict which is mapped to regressor.predict, and assign the output to a variable called \"result\""
   ]
  },
  {
   "cell_type": "code",
   "execution_count": 5,
   "id": "dd415b49-bec8-477f-a8ae-93eafc63323c",
   "metadata": {},
   "outputs": [
    {
     "data": {
      "text/plain": [
       "array([[167181.3106341]])"
      ]
     },
     "execution_count": 5,
     "metadata": {},
     "output_type": "execute_result"
    }
   ],
   "source": [
    "result    # Get the predicted output that is assigned \"result\""
   ]
  },
  {
   "cell_type": "code",
   "execution_count": null,
   "id": "5ab8ef23-6c14-4822-bd2b-86268ddefa36",
   "metadata": {},
   "outputs": [],
   "source": []
  }
 ],
 "metadata": {
  "kernelspec": {
   "display_name": "Python [conda env:base] *",
   "language": "python",
   "name": "conda-base-py"
  },
  "language_info": {
   "codemirror_mode": {
    "name": "ipython",
    "version": 3
   },
   "file_extension": ".py",
   "mimetype": "text/x-python",
   "name": "python",
   "nbconvert_exporter": "python",
   "pygments_lexer": "ipython3",
   "version": "3.12.7"
  }
 },
 "nbformat": 4,
 "nbformat_minor": 5
}
